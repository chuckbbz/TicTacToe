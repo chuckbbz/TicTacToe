{
 "metadata": {
  "language_info": {
   "codemirror_mode": {
    "name": "ipython",
    "version": 3
   },
   "file_extension": ".py",
   "mimetype": "text/x-python",
   "name": "python",
   "nbconvert_exporter": "python",
   "pygments_lexer": "ipython3",
   "version": "3.8.3"
  },
  "orig_nbformat": 2,
  "kernelspec": {
   "name": "python38332bit2930e8055cad4fb5a7b53a3f0a779e62",
   "display_name": "Python 3.8.3 32-bit"
  },
  "metadata": {
   "interpreter": {
    "hash": "1b073dd7646d73a02970775c0483997dfc9d3dfa0f78e07e9585fe76c74fc08e"
   }
  }
 },
 "nbformat": 4,
 "nbformat_minor": 2,
 "cells": [
  {
   "cell_type": "code",
   "execution_count": 1,
   "metadata": {},
   "outputs": [],
   "source": [
    "#CS 506 IP \n",
    "#Pengfei Liu \n",
    "#05/16/2021"
   ]
  },
  {
   "cell_type": "code",
   "execution_count": 2,
   "metadata": {},
   "outputs": [],
   "source": [
    "import random"
   ]
  },
  {
   "cell_type": "code",
   "execution_count": 3,
   "metadata": {},
   "outputs": [],
   "source": [
    "#print the tic-tac-toe board based on the list passed \n",
    "def drawBoard(board):\n",
    "    print(board[6] + \" |\" + board[7] + \" |\" + board[8])\n",
    "    print(\"--+--+--\")\n",
    "    print(board[3] + \" |\" + board[4] + \" |\" + board[5])\n",
    "    print(\"--+--+--\")\n",
    "    print(board[0] + \" |\" + board[1] + \" |\" + board[2])\n",
    "    print(\"--------\")\n",
    "    print()\n"
   ]
  },
  {
   "cell_type": "code",
   "execution_count": 4,
   "metadata": {},
   "outputs": [],
   "source": [
    "def choosePlayerLetter():\n",
    "    '''Allow use to choose a player letter 'X' or 'O' '''\n",
    "    letter = input(\"Please choose your letter(X or O): \").upper()\n",
    "    while not (letter == 'X' or letter == 'O'):\n",
    "        letter = input(\"Invalid enter, Please choose your letter(X or O): \").upper()    #return a list contains player and computer letter\n",
    "    return ['X', 'O'] if letter == 'X' else ['O', 'X']\n"
   ]
  },
  {
   "cell_type": "code",
   "execution_count": 5,
   "metadata": {
    "tags": []
   },
   "outputs": [],
   "source": [
    "def checkTurn():\n",
    "    '''Let user decide who goes first CASE INSENSITIVE'''\n",
    "    res = input(\"Do you want to go first?(Y/N): \")\n",
    "    return 1 if res.upper().startswith('Y') else -1"
   ]
  },
  {
   "cell_type": "code",
   "execution_count": 6,
   "metadata": {},
   "outputs": [],
   "source": [
    "def chooseStep(theBoard):\n",
    "    '''waiting for the player to enter a step'''\n",
    "    move = -1 \n",
    "    while True:\n",
    "        try:\n",
    "            move = int(input(\"Where do you want to move?(1-9) \"))\n",
    "            if move < 1 or move > 9:\n",
    "                print(\"Invalid position, out of range\")\n",
    "            elif not isSpace(move - 1, theBoard):\n",
    "                print(\"This space is occupied!\")\n",
    "            else:\n",
    "                break\n",
    "        except ValueError:\n",
    "            print(\"Oops, this is not a valid number!\")\n",
    "    return move - 1\n"
   ]
  },
  {
   "cell_type": "code",
   "execution_count": 7,
   "metadata": {},
   "outputs": [],
   "source": [
    "def isSpace(move, theBoard):\n",
    "    '''check if this space is avaliable to take'''\n",
    "    return theBoard[move] == ' '"
   ]
  },
  {
   "cell_type": "code",
   "execution_count": 8,
   "metadata": {},
   "outputs": [],
   "source": [
    "def makeStep(theBoard, pos, letter):\n",
    "    '''occpuied a position'''\n",
    "    theBoard[pos] = letter"
   ]
  },
  {
   "cell_type": "code",
   "execution_count": 9,
   "metadata": {},
   "outputs": [],
   "source": [
    "def isWinning(theBoard, turn, player, computer):\n",
    "    '''return ture if there is already a winner else return false. '''\n",
    "    sign = player if turn == 1 else computer\n",
    "    return ((theBoard[0] == sign and theBoard[1] == sign and theBoard[2] == sign) or\n",
    "        (theBoard[3] == sign and theBoard[4] == sign and theBoard[5] == sign) or\n",
    "        (theBoard[6] == sign and theBoard[7] == sign and theBoard[8] == sign) or\n",
    "        (theBoard[0] == sign and theBoard[3] == sign and theBoard[6] == sign) or\n",
    "        (theBoard[1] == sign and theBoard[4] == sign and theBoard[7] == sign) or\n",
    "        (theBoard[2] == sign and theBoard[5] == sign and theBoard[8] == sign) or \n",
    "        (theBoard[0] == sign and theBoard[4] == sign and theBoard[8] == sign) or \n",
    "        (theBoard[2] == sign and theBoard[4] == sign and theBoard[6] == sign))"
   ]
  },
  {
   "cell_type": "code",
   "execution_count": 10,
   "metadata": {},
   "outputs": [],
   "source": [
    "def removeStep(theBoard, step):\n",
    "    '''remove a specific position in the board'''\n",
    "    theBoard[step] = \" \""
   ]
  },
  {
   "cell_type": "code",
   "execution_count": 11,
   "metadata": {},
   "outputs": [],
   "source": [
    "def miniMax(theBoard, depth, isMax, computer, player):\n",
    "    '''miniMax algorighm for helping computer choose the next position'''\n",
    "    #edge case\n",
    "    #computer won\n",
    "    if isWinning(theBoard, -1, player, computer):\n",
    "        return 100\n",
    "    #player won\n",
    "    if isWinning(theBoard, 1, player, computer):\n",
    "        return -100\n",
    "    #tie\n",
    "    elif isTie(theBoard):\n",
    "        return 0\n",
    "    #computer turn \n",
    "    if isMax:\n",
    "        bestScore = -100\n",
    "        for step in range(len(theBoard)):\n",
    "            if isSpace(step, theBoard):\n",
    "                makeStep(theBoard, step, computer)\n",
    "                score = miniMax(theBoard, depth + 1, False, computer, player)\n",
    "                removeStep(theBoard, step)\n",
    "                if score > bestScore:\n",
    "                    bestScore = score\n",
    "        return bestScore\n",
    "    #player turn \n",
    "    else: \n",
    "        bestScore = 100\n",
    "        for step in range(len(theBoard)):\n",
    "            if isSpace(step, theBoard):\n",
    "                makeStep(theBoard, step, player)\n",
    "                score = miniMax(theBoard, depth + 1, True, computer, player)\n",
    "                removeStep(theBoard, step)\n",
    "                if score < bestScore:\n",
    "                    bestScore = score\n",
    "        return bestScore"
   ]
  },
  {
   "cell_type": "code",
   "execution_count": 12,
   "metadata": {},
   "outputs": [],
   "source": [
    "def computerStep(theBoard, computer, player):\n",
    "    '''computer's turn to choose a position'''\n",
    "    bestScore = -100\n",
    "    bestMoves = [] \n",
    "    for step in range(len(theBoard)):\n",
    "        if isSpace(step, theBoard):\n",
    "            makeStep(theBoard, step, computer)\n",
    "            score = miniMax(theBoard, 0, False, computer, player)\n",
    "            removeStep(theBoard, step)\n",
    "\n",
    "            if score > bestScore:\n",
    "                bestScore = score\n",
    "                bestMoves = [step]\n",
    "            elif score == bestScore:\n",
    "                bestMoves.append(step)\n",
    "    return random.choice(bestMoves)"
   ]
  },
  {
   "cell_type": "code",
   "execution_count": 13,
   "metadata": {},
   "outputs": [],
   "source": [
    "def isTie(theBoard):\n",
    "    '''Check if the game is tie, if board is full it is tie, return True, else return False'''\n",
    "    for i in range(len(theBoard)):\n",
    "        if isSpace(i, theBoard):\n",
    "            return False\n",
    "    return True"
   ]
  },
  {
   "cell_type": "code",
   "execution_count": 14,
   "metadata": {
    "tags": []
   },
   "outputs": [],
   "source": [
    "def gameMode():\n",
    "    '''Main function to play tic tac toe game'''\n",
    "    '''I choose to keep the exist file, if want to over-written the exist file, change a to w'''\n",
    "    '''The display of the board:\n",
    "        7  8  9\n",
    "        --+--+--\n",
    "        4  5  6\n",
    "        --+--+--\n",
    "        1  2  3  '''\n",
    "    f = open(\"tictactoe.txt\", \"a\")\n",
    "    roundNum = 0\n",
    "    while True:\n",
    "        theBoard = [\" \"] * 9\n",
    "        chooseLetter = choosePlayerLetter()\n",
    "        playerLetter = chooseLetter[0]\n",
    "        computerLetter = chooseLetter[1]\n",
    "        turn = checkTurn()\n",
    "        roundNum += 1\n",
    "        f.write(\"Round %s: \" %(roundNum))\n",
    "        f.write(\"Player: %s Computer: %s\\n\" %(playerLetter, computerLetter))\n",
    "        gameMode = True\n",
    "        #drawBoard(theBoard)\n",
    "        \n",
    "        while gameMode:\n",
    "            #player's turn\n",
    "            if turn == 1:\n",
    "                drawBoard(theBoard)\n",
    "                step = chooseStep(theBoard)\n",
    "                makeStep(theBoard, step, playerLetter)\n",
    "                f.write(\"%s:%s \" %(playerLetter, step + 1))\n",
    "            else:\n",
    "                step = computerStep(theBoard, computerLetter, playerLetter)\n",
    "                makeStep(theBoard, step, computerLetter)\n",
    "                f.write(\"%s:%s \" %(computerLetter, step + 1))\n",
    "\n",
    "            if isWinning(theBoard, turn, playerLetter, computerLetter):\n",
    "                drawBoard(theBoard)\n",
    "                f.write(\"\\nGame Result: \")\n",
    "                #player win \n",
    "                if turn == 1:\n",
    "                    print('Wow! Congratulations, You beat the computer!')\n",
    "                    f.write(\"Player Won\\n\\n\")\n",
    "                #player lose\n",
    "                else:\n",
    "                    print('Sorry, you lost. Good luck next time!')\n",
    "                    f.write(\"Computer Won\\n\\n\")\n",
    "                #end the game \n",
    "                gameMode = False\n",
    "            elif isTie(theBoard):\n",
    "                drawBoard(theBoard)\n",
    "                print(\"It's tie\")\n",
    "                f.write(\"\\nGame Result: It's tie\\n\\n\")\n",
    "                gameMode = False\n",
    "            else:\n",
    "                turn = -turn\n",
    "        print(\"Do you want to play again?(Y/N) \")\n",
    "        if not input().upper().startswith('Y'):\n",
    "            break\n",
    "            \n",
    "\n"
   ]
  },
  {
   "cell_type": "code",
   "execution_count": 15,
   "metadata": {
    "tags": []
   },
   "outputs": [
    {
     "output_type": "stream",
     "name": "stdout",
     "text": [
      "  |  | \n",
      "--+--+--\n",
      "  |  | \n",
      "--+--+--\n",
      "  |  | \n",
      "--------\n",
      "\n",
      "  |  | \n",
      "--+--+--\n",
      "  |X | \n",
      "--+--+--\n",
      "O |  | \n",
      "--------\n",
      "\n",
      "  |O | \n",
      "--+--+--\n",
      "  |X | \n",
      "--+--+--\n",
      "O |X | \n",
      "--------\n",
      "\n",
      "X |O | \n",
      "--+--+--\n",
      "  |X | \n",
      "--+--+--\n",
      "O |X |O\n",
      "--------\n",
      "\n",
      "X |O | \n",
      "--+--+--\n",
      "O |X |X\n",
      "--+--+--\n",
      "O |X |O\n",
      "--------\n",
      "\n",
      "X |O |X\n",
      "--+--+--\n",
      "O |X |X\n",
      "--+--+--\n",
      "O |X |O\n",
      "--------\n",
      "\n",
      "It's tie\n",
      "Do you want to play again?(Y/N) \n"
     ]
    }
   ],
   "source": [
    "gameMode()"
   ]
  }
 ]
}